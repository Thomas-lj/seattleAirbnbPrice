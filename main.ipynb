{
 "cells": [
  {
   "cell_type": "code",
   "execution_count": null,
   "metadata": {},
   "outputs": [],
   "source": [
    "import pandas as pd\n",
    "import numpy as np\n",
    "import os\n",
    "import datetime\n",
    "import calendar\n",
    "\n",
    "import seaborn as sns\n",
    "from sklearn.linear_model import LinearRegression\n",
    "from sklearn.ensemble import GradientBoostingRegressor\n",
    "from sklearn.pipeline import make_pipeline\n",
    "from sklearn.model_selection import train_test_split, cross_val_score\n",
    "from sklearn.preprocessing import MinMaxScaler\n",
    "from sklearn.metrics import r2_score\n",
    "import matplotlib.pyplot as plt\n",
    "\n",
    "from scripts.data_analysis import prepare_data"
   ]
  },
  {
   "cell_type": "code",
   "execution_count": null,
   "metadata": {},
   "outputs": [],
   "source": [
    "# Business questions:\n",
    "# 1) How do the prices differ from area to area in Airbnb listings?\n",
    "# 2) Is there a cheapest time to go travel?\n",
    "# 3) What is the most important contributor to a listing price?\n",
    "\n",
    "df = pd.read_csv(os.path.abspath(\"./data/listings.csv\"))\n",
    "df_cal = pd.read_csv(\n",
    "    os.path.abspath(\"./data/calendar.csv\"),\n",
    "    dtype={\n",
    "        'price': str,\n",
    "        'date': str\n",
    "    }\n",
    ")\n",
    "# remove $, , and .00 from the Price column.\n",
    "df['price'] = df.price.astype(str).apply(lambda s: s.replace('$', '').replace('.00', '').replace(',', '')).astype(int)\n",
    "df_cal.price = df_cal.price.astype(str).fillna('').apply(lambda s: s.replace('.00', '').replace(',', '').replace('$', ''))\n",
    "print(df.shape, df_cal.shape)\n"
   ]
  },
  {
   "cell_type": "code",
   "execution_count": null,
   "metadata": {},
   "outputs": [],
   "source": [
    "df_area = pd.merge(\n",
    "    df_cal,\n",
    "    df[[\n",
    "        'id',\n",
    "        'neighbourhood_cleansed',\n",
    "    ]],\n",
    "    how='left',\n",
    "    left_on='listing_id',\n",
    "    right_on='id'\n",
    ")"
   ]
  },
  {
   "cell_type": "code",
   "execution_count": null,
   "metadata": {},
   "outputs": [],
   "source": [
    "frac_bookings = {\"Area\": [], \"Percentage of booked nights\": [], \"Price\": [], 'Number of Airbnbs': []}\n",
    "areas, counts = np.unique(df_area.neighbourhood_cleansed, return_counts=True)\n",
    "for area, count in zip(areas, counts):\n",
    "    taken = df_area.loc[\n",
    "        (df_area.neighbourhood_cleansed==area) &\n",
    "        (df_area.available == 'f')\n",
    "    ].shape[0]/count\n",
    "\n",
    "    area_price = df.loc[df.neighbourhood_cleansed==area].price\n",
    "    \n",
    "    frac_bookings['Area'].append(area)\n",
    "    frac_bookings['Percentage of booked nights'].append(taken) # percentage of how many days the listings are taken.\n",
    "    frac_bookings['Price'].append(area_price)\n",
    "    frac_bookings['Number of Airbnbs'].append(int(count/365))\n",
    "frac_df = pd.DataFrame(frac_bookings)\n",
    "frac_df = frac_df.sort_values(by='Percentage of booked nights', ascending=False)"
   ]
  },
  {
   "cell_type": "code",
   "execution_count": null,
   "metadata": {},
   "outputs": [],
   "source": [
    "x = frac_df['Percentage of booked nights']\n",
    "y = frac_df['Area']\n",
    "fig, ax = plt.subplots(figsize=(17,15))\n",
    "ax = sns.barplot(x=x, y=y, orient='h', ax=ax)\n",
    "ax.set(yticklabels=[])\n",
    "ax.tick_params(left=False)\n",
    "ax.bar_label\n",
    "sns.barplot(data=frac_df, x=\"Percentage of booked nights\", y=\"Area\")"
   ]
  },
  {
   "cell_type": "code",
   "execution_count": null,
   "metadata": {},
   "outputs": [],
   "source": [
    "df_price = frac_df.explode('Price')\n",
    "x = df_price['Price']\n",
    "y = df_price['Area']\n",
    "fig, ax = plt.subplots(figsize=(17,15))\n",
    "ax = sns.boxplot(x=x, y=y, orient='h', ax=ax)\n",
    "ax.set(yticklabels=[])\n",
    "ax.tick_params(left=False)\n",
    "ax.bar_label\n",
    "sns.boxplot(data=df_price, x=x, y=y)"
   ]
  },
  {
   "cell_type": "code",
   "execution_count": null,
   "metadata": {},
   "outputs": [],
   "source": [
    "x = frac_df['Number of Airbnbs']\n",
    "y = frac_df['Area']\n",
    "fig, ax = plt.subplots(figsize=(17,15))\n",
    "ax = sns.barplot(x=x, y=y, orient='h', ax=ax)\n",
    "ax.set(yticklabels=[])\n",
    "ax.tick_params(left=False)\n",
    "ax.bar_label\n",
    "sns.barplot(data=frac_df, x=\"Number of Airbnbs\", y=\"Area\")"
   ]
  },
  {
   "cell_type": "code",
   "execution_count": null,
   "metadata": {},
   "outputs": [],
   "source": [
    "corr = df[[\n",
    "    'price',\n",
    "    'accommodates',\n",
    "    'bedrooms',\n",
    "    'host_total_listings_count',\n",
    "    'number_of_reviews',\n",
    "    'reviews_per_month',\n",
    "    'review_scores_rating',\n",
    "    'review_scores_value',\n",
    "    'review_scores_cleanliness',\n",
    "    'latitude',\n",
    "    'longitude'\n",
    "]].corr()\n",
    "sns.heatmap(corr)"
   ]
  },
  {
   "cell_type": "code",
   "execution_count": null,
   "metadata": {},
   "outputs": [],
   "source": [
    "# is there a cheapest time to go travel?\n",
    "df_available = df_area[(df_area.available=='t')].copy()\n",
    "df_available['Weekday'] = df_available.date.apply(lambda s: calendar.day_name[datetime.datetime.strptime(s, '%m/%d/%Y').weekday()])\n",
    "df_available['price'] = df_available.price.astype(int)\n",
    "price_avg = []\n",
    "dates = df_available.date.unique()\n",
    "for date in dates:\n",
    "    day_price = df_available[df_available.date==date].price.mean()\n",
    "    price_avg.append(day_price)\n",
    "cal_price = pd.DataFrame({'date': dates, 'price': price_avg})"
   ]
  },
  {
   "cell_type": "code",
   "execution_count": null,
   "metadata": {},
   "outputs": [],
   "source": [
    "# plot prices overview.\n",
    "fig, axes = plt.subplots(2, figsize=(12, 10))\n",
    "fig.suptitle('Available Airbnb prices')\n",
    "sns.barplot(\n",
    "    ax=axes[0],\n",
    "    data=df_available,\n",
    "    x='Weekday',\n",
    "    y='price',\n",
    ")\n",
    "axes[0].set_ylabel('price [$]')\n",
    "\n",
    "cal_price.plot(ax=axes[1], x='date', y='price', rot=90)\n",
    "axes[1].set_ylabel('price [$]')\n",
    "plt.show()"
   ]
  },
  {
   "cell_type": "code",
   "execution_count": null,
   "metadata": {},
   "outputs": [],
   "source": [
    "# load numerical columns.\n",
    "vars = [\n",
    "    'price',\n",
    "    'host_total_listings_count',\n",
    "    'accommodates',\n",
    "    'number_of_reviews',\n",
    "    'review_scores_rating',\n",
    "    'reviews_per_month',\n",
    "    'host_since'\n",
    "]\n",
    "\n",
    "# load categorical columns.\n",
    "cat_cols = [\n",
    "    'host_response_time',\n",
    "    'host_is_superhost',\n",
    "    'neighbourhood_group_cleansed',\n",
    "    'room_type',\n",
    "    'bed_type',\n",
    "    'instant_bookable',\n",
    "    'cancellation_policy',\n",
    "    'require_guest_phone_verification'\n",
    "]\n",
    "\n",
    "df_prep = prepare_data(df, vars=vars, cat_cols=cat_cols)"
   ]
  },
  {
   "cell_type": "code",
   "execution_count": null,
   "metadata": {},
   "outputs": [],
   "source": [
    "y = df_prep.price\n",
    "X = df_prep.loc[:, df_prep.columns != 'price']"
   ]
  },
  {
   "cell_type": "code",
   "execution_count": null,
   "metadata": {},
   "outputs": [],
   "source": [
    "# fit a linear model\n",
    "seeds = [12834, 43271, 6555, 2359, 42]\n",
    "r2_scores = []\n",
    "importance = {'Coefficient': [], 'Column name': []}\n",
    "for seed in seeds:\n",
    "    X_train, X_test, y_train, y_test = train_test_split(X, y, test_size = .20, random_state=seed)\n",
    "    lm_model = LinearRegression()\n",
    "    lm_model.fit(X_train, y_train)\n",
    "    lm_pred = lm_model.predict(X_test)\n",
    "    importance['Coefficient'].append(lm_model.coef_)\n",
    "    importance['Column name'].append(X_train.columns)\n",
    "    lm_r2 = r2_score(y_test, lm_pred)\n",
    "    r2_scores.append(lm_r2)\n",
    "importance = pd.DataFrame(importance).explode(['Coefficient', 'Column name']).sort_values(by='Coefficient', ascending=False)\n",
    "mean_r2 = sum(r2_scores)/len(r2_scores)"
   ]
  },
  {
   "cell_type": "code",
   "execution_count": null,
   "metadata": {},
   "outputs": [],
   "source": [
    "fig = plt.figure(figsize=(16, 6))\n",
    "importance_groups = importance.groupby('Column name')['Coefficient'].mean().sort_values(ascending=False)\n",
    "importance_groups.plot(kind='bar', y='Coefficient')"
   ]
  },
  {
   "cell_type": "code",
   "execution_count": null,
   "metadata": {},
   "outputs": [],
   "source": [
    "# plot the predicted-true airbnb prices.\n",
    "grid = np.linspace(min(y_test), max(y_test), len(y_test))\n",
    "z = np.poly1d(np.polyfit(y_test, lm_pred, 1))\n",
    "plt.plot(grid, z(grid), 'r--', label=\"R2 {:.2f}\".format(mean_r2))\n",
    "plt.scatter(y_test, lm_pred)\n",
    "plt.title('Plot of fitted vs. true Airbnb prices')\n",
    "plt.legend(loc=\"upper left\")\n",
    "plt.xlabel(\"Ground truth price (USD)\")\n",
    "plt.ylabel(\"Predicted price (USD)\")\n",
    "plt.show()"
   ]
  }
 ],
 "metadata": {
  "kernelspec": {
   "display_name": "Python 3.10.4 ('venv': venv)",
   "language": "python",
   "name": "python3"
  },
  "language_info": {
   "codemirror_mode": {
    "name": "ipython",
    "version": 3
   },
   "file_extension": ".py",
   "mimetype": "text/x-python",
   "name": "python",
   "nbconvert_exporter": "python",
   "pygments_lexer": "ipython3",
   "version": "3.10.4"
  },
  "orig_nbformat": 4,
  "vscode": {
   "interpreter": {
    "hash": "be892621e111636d3b9471a176726efeeeeb0e73b2897657f12b51e5f304a48c"
   }
  }
 },
 "nbformat": 4,
 "nbformat_minor": 2
}
